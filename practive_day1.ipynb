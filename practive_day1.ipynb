{
 "cells": [
  {
   "cell_type": "code",
   "execution_count": 10,
   "metadata": {},
   "outputs": [
    {
     "name": "stdout",
     "output_type": "stream",
     "text": [
      "Type of Triangle: Right Isosceles Triangle\n"
     ]
    }
   ],
   "source": [
    "import math\n",
    "\n",
    "class Point:\n",
    "    def __init__(self, x, y):\n",
    "        self.x = x\n",
    "        self.y = y\n",
    "\n",
    "class Triangle:\n",
    "    def __init__(self, A, B, C):\n",
    "        self.A = A\n",
    "        self.B = B\n",
    "        self.C = C\n",
    "\n",
    "    def side_length(self, p1, p2):\n",
    "        return math.sqrt((p2.x - p1.x) ** 2 + (p2.y - p1.y) ** 2)\n",
    "\n",
    "    def is_equilateral(self):\n",
    "        AB = self.side_length(self.A, self.B)\n",
    "        AC = self.side_length(self.A, self.C)\n",
    "        BC = self.side_length(self.B, self.C)\n",
    "        return math.isclose(AB, AC) and math.isclose(AB, BC)\n",
    "\n",
    "    def is_right(self):\n",
    "        AB = self.side_length(self.A, self.B)\n",
    "        AC = self.side_length(self.A, self.C)\n",
    "        BC = self.side_length(self.B, self.C)\n",
    "        sides = [AB, AC, BC]\n",
    "        sides.sort()\n",
    "        return math.isclose(sides[0] ** 2 + sides[1] ** 2, sides[2] ** 2)\n",
    "\n",
    "    def is_isosceles(self):\n",
    "        AB = self.side_length(self.A, self.B)\n",
    "        AC = self.side_length(self.A, self.C)\n",
    "        BC = self.side_length(self.B, self.C)\n",
    "        return math.isclose(AB, AC) or math.isclose(AB, BC) or math.isclose(AC, BC)\n",
    "\n",
    "    def get_triangle_type(self):\n",
    "        if self.is_equilateral():\n",
    "            return \"Equilateral Triangle\"\n",
    "        elif self.is_right():\n",
    "            if self.is_isosceles():\n",
    "                return 'Right Isosceles Triangle'\n",
    "            return \"Right Triangle\"\n",
    "        elif self.is_isosceles():\n",
    "            if self.is_right():\n",
    "                return 'Right Isosceles Triangle'\n",
    "            return \"Isosceles Triangle\"\n",
    "        else:\n",
    "            return \"Scalene Triangle\"\n",
    "\n",
    "\n",
    "x1, y1 = map(float, input(\"Enter coordinates of point A (comma separated): \").split(','))\n",
    "x2, y2 = map(float, input(\"Enter coordinates of point B (comma separated): \").split(','))\n",
    "x3, y3 = map(float, input(\"Enter coordinates of point C (comma separated): \").split(','))\n",
    "\n",
    "A = Point(x1, y1)\n",
    "B = Point(x2, y2)\n",
    "C = Point(x3, y3)\n",
    "\n",
    "triangle = Triangle(A, B, C)\n",
    "print(\"Type of Triangle:\", triangle.get_triangle_type())\n"
   ]
  },
  {
   "cell_type": "code",
   "execution_count": null,
   "metadata": {},
   "outputs": [],
   "source": []
  }
 ],
 "metadata": {
  "kernelspec": {
   "display_name": "base",
   "language": "python",
   "name": "python3"
  },
  "language_info": {
   "codemirror_mode": {
    "name": "ipython",
    "version": 3
   },
   "file_extension": ".py",
   "mimetype": "text/x-python",
   "name": "python",
   "nbconvert_exporter": "python",
   "pygments_lexer": "ipython3",
   "version": "3.9.12"
  }
 },
 "nbformat": 4,
 "nbformat_minor": 2
}
