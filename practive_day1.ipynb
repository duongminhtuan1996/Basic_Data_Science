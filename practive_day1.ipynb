{
 "cells": [
  {
   "cell_type": "markdown",
   "metadata": {},
   "source": [
    "Bài 1: Nhập tọa độ 3 điểm A, B và C trên mặt phẳng 2 chiều. Hãy kiểm tra và chỉ ra hình dạng của tam giác ABC(cân, đều, vuông, vuông cân)"
   ]
  },
  {
   "cell_type": "code",
   "execution_count": 10,
   "metadata": {},
   "outputs": [
    {
     "name": "stdout",
     "output_type": "stream",
     "text": [
      "Type of Triangle: Right Isosceles Triangle\n"
     ]
    }
   ],
   "source": [
    "import math\n",
    "\n",
    "class Point:\n",
    "    def __init__(self, x, y):\n",
    "        self.x = x\n",
    "        self.y = y\n",
    "\n",
    "class Triangle:\n",
    "    def __init__(self, A, B, C):\n",
    "        self.A = A\n",
    "        self.B = B\n",
    "        self.C = C\n",
    "\n",
    "    def side_length(self, p1, p2):\n",
    "        return math.sqrt((p2.x - p1.x) ** 2 + (p2.y - p1.y) ** 2)\n",
    "\n",
    "    def is_equilateral(self):\n",
    "        AB = self.side_length(self.A, self.B)\n",
    "        AC = self.side_length(self.A, self.C)\n",
    "        BC = self.side_length(self.B, self.C)\n",
    "        return math.isclose(AB, AC) and math.isclose(AB, BC)\n",
    "\n",
    "    def is_right(self):\n",
    "        AB = self.side_length(self.A, self.B)\n",
    "        AC = self.side_length(self.A, self.C)\n",
    "        BC = self.side_length(self.B, self.C)\n",
    "        sides = [AB, AC, BC]\n",
    "        sides.sort()\n",
    "        return math.isclose(sides[0] ** 2 + sides[1] ** 2, sides[2] ** 2)\n",
    "\n",
    "    def is_isosceles(self):\n",
    "        AB = self.side_length(self.A, self.B)\n",
    "        AC = self.side_length(self.A, self.C)\n",
    "        BC = self.side_length(self.B, self.C)\n",
    "        return math.isclose(AB, AC) or math.isclose(AB, BC) or math.isclose(AC, BC)\n",
    "\n",
    "    def get_triangle_type(self):\n",
    "        if self.is_equilateral():\n",
    "            return \"Equilateral Triangle\"\n",
    "        elif self.is_right():\n",
    "            if self.is_isosceles():\n",
    "                return 'Right Isosceles Triangle'\n",
    "            return \"Right Triangle\"\n",
    "        elif self.is_isosceles():\n",
    "            if self.is_right():\n",
    "                return 'Right Isosceles Triangle'\n",
    "            return \"Isosceles Triangle\"\n",
    "        else:\n",
    "            return \"Scalene Triangle\"\n",
    "\n",
    "\n",
    "x1, y1 = map(float, input(\"Enter coordinates of point A (comma separated): \").split(','))\n",
    "x2, y2 = map(float, input(\"Enter coordinates of point B (comma separated): \").split(','))\n",
    "x3, y3 = map(float, input(\"Enter coordinates of point C (comma separated): \").split(','))\n",
    "\n",
    "A = Point(x1, y1)\n",
    "B = Point(x2, y2)\n",
    "C = Point(x3, y3)\n",
    "\n",
    "triangle = Triangle(A, B, C)\n",
    "print(\"Type of Triangle:\", triangle.get_triangle_type())\n"
   ]
  },
  {
   "cell_type": "markdown",
   "metadata": {},
   "source": [
    "Bài 2: Viết phương trình in ra số lớn nhất trong 4 số nhập từ bản phím"
   ]
  },
  {
   "cell_type": "code",
   "execution_count": 9,
   "metadata": {},
   "outputs": [
    {
     "name": "stdout",
     "output_type": "stream",
     "text": [
      "Number :12.0, 31.0, 412.0, 3.0\n",
      "[12.0, 31.0, 412.0, 3.0]\n",
      "Number largest is 412.0\n"
     ]
    }
   ],
   "source": [
    "lst = list()\n",
    "try: \n",
    "    a = float(input('Enter number a: '))\n",
    "    lst.append(a)\n",
    "    b = float(input('Enter number b: '))\n",
    "    lst.append(b)\n",
    "    c = float(input('Enter number c: '))\n",
    "    lst.append(c)\n",
    "    d = float(input('Enter number d: '))\n",
    "    lst.append(d)\n",
    "except:\n",
    "    print('Input should be number not string')\n",
    "\n",
    "max = lst[0]\n",
    "for x in lst:\n",
    " if max < x:\n",
    "    max = x\n",
    "\n",
    "print(f'Number :{a}, {b}, {c}, {d}')\n",
    "print(lst)\n",
    "print(f'Number largest is {max}')"
   ]
  },
  {
   "cell_type": "markdown",
   "metadata": {},
   "source": [
    "Bài 3: Viết phương trình dịch các ngày trong tuấn sang tiếng anh."
   ]
  },
  {
   "cell_type": "code",
   "execution_count": 10,
   "metadata": {},
   "outputs": [
    {
     "name": "stdout",
     "output_type": "stream",
     "text": [
      "Today is Sunday\n"
     ]
    }
   ],
   "source": [
    "try:\n",
    "    day = input('Enter day on week: ')\n",
    "except:\n",
    "    print('Day should be string')\n",
    "\n",
    "if day == 'Thứ 2':\n",
    "    print('Today is Monday')\n",
    "elif day == 'Thứ 3':\n",
    "    print('Today is Tuesday')\n",
    "elif day == 'Thứ 4':\n",
    "    print('Today is Wednesday')\n",
    "elif day == 'Thứ 5':\n",
    "    print('Today is Thursday')\n",
    "elif day == 'Thứ 6':\n",
    "    print('Today is Friday')\n",
    "elif day == 'Thứ 7':\n",
    "    print('Today is Saturday')\n",
    "elif day == 'Chủ nhật':\n",
    "    print('Today is Sunday')\n",
    "else:\n",
    "    print('You input wrong or some thing error')"
   ]
  },
  {
   "cell_type": "markdown",
   "metadata": {},
   "source": [
    "Lesson 4: Write a program to solve a system of first-order equations"
   ]
  },
  {
   "cell_type": "code",
   "execution_count": 2,
   "metadata": {},
   "outputs": [
    {
     "name": "stdout",
     "output_type": "stream",
     "text": [
      "Result first-order equations: (4.0, 2.0)\n"
     ]
    }
   ],
   "source": [
    "def first_equation(a, b, c, a_p, b_p, c_p):\n",
    "    y = (c_p*a - a_p*c)/(b_p*a - a_p*b)\n",
    "    x = (c - b*y)/a\n",
    "    return x, y\n",
    "\n",
    "a = float(input('Enter a: '))\n",
    "b = float(input('Enter b: '))\n",
    "c = float(input('Enter c: '))\n",
    "\n",
    "a_p = float(input('Enter a\\': '))\n",
    "b_p = float(input('Enter b\\': '))\n",
    "c_p = float(input('Enter c\\': '))\n",
    "\n",
    "print(f'Result first-order equations: {first_equation(a, b, c, a_p, b_p, c_p)}')"
   ]
  },
  {
   "cell_type": "markdown",
   "metadata": {},
   "source": [
    "Lession 5: Calculate z, with x, y input from the keyboard."
   ]
  },
  {
   "cell_type": "code",
   "execution_count": 6,
   "metadata": {},
   "outputs": [
    {
     "name": "stdout",
     "output_type": "stream",
     "text": [
      "0.61\n",
      "3.5\n",
      "11.375\n"
     ]
    }
   ],
   "source": [
    "def calculate_z(x, y):\n",
    "    if x**2 <=1 and y**2 <=1:\n",
    "        z = x**2 + y**2\n",
    "    elif x**2 > 1 and y**2 > 1 and x >= y:\n",
    "        z = x + y\n",
    "    elif x**2 > 1 and y**2 > 1 and x < y:\n",
    "        z = x**3 + y**3\n",
    "    return z\n",
    "\n",
    "print(calculate_z(0.5, 0.6))\n",
    "print(calculate_z(2, 1.5))\n",
    "print(calculate_z(1.5, 2))"
   ]
  },
  {
   "cell_type": "markdown",
   "metadata": {},
   "source": [
    "Lesson 6: Calculate taxi fare from the number of kilometers entered. Know:<br>\n",
    "a. The first 1km costs 15,000 VND<br>\n",
    "b. From the 2nd km to the 5th km, the price is 13,500 VND<br>\n",
    "c. From the 6th kilometer onwards, the price is 11,000 VND<br>\n",
    "d. If over 120km get a 10% discount on the total price.<br>"
   ]
  },
  {
   "cell_type": "code",
   "execution_count": 3,
   "metadata": {},
   "outputs": [
    {
     "name": "stdout",
     "output_type": "stream",
     "text": [
      "Total price taxi is: 80000.0\n"
     ]
    }
   ],
   "source": [
    "num_km = float(input('Enter number km: '))\n",
    "total = 0\n",
    "if num_km <= 1:\n",
    "    total = 15000\n",
    "elif num_km >= 2 and num_km <= 5:\n",
    "    total = 15000 * 1 + 13500*(num_km - 1)\n",
    "elif num_km >= 6 and num_km <= 120:\n",
    "    total = 15000 * 1 + 13500*4 + 11000*(num_km-5)\n",
    "elif num_km >=120:\n",
    "    total = (15000 * 1 + 13500*4 + 11000*(num_km-5)) * 0.9\n",
    "\n",
    "print(f'Total price taxi is: {total}')"
   ]
  },
  {
   "cell_type": "code",
   "execution_count": 4,
   "metadata": {},
   "outputs": [
    {
     "data": {
      "text/plain": [
       "80000"
      ]
     },
     "execution_count": 4,
     "metadata": {},
     "output_type": "execute_result"
    }
   ],
   "source": [
    "15000 + 4 * 13500 + 11000"
   ]
  },
  {
   "cell_type": "code",
   "execution_count": null,
   "metadata": {},
   "outputs": [],
   "source": []
  }
 ],
 "metadata": {
  "kernelspec": {
   "display_name": "base",
   "language": "python",
   "name": "python3"
  },
  "language_info": {
   "codemirror_mode": {
    "name": "ipython",
    "version": 3
   },
   "file_extension": ".py",
   "mimetype": "text/x-python",
   "name": "python",
   "nbconvert_exporter": "python",
   "pygments_lexer": "ipython3",
   "version": "3.9.12"
  }
 },
 "nbformat": 4,
 "nbformat_minor": 2
}
