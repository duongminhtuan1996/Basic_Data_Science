{
 "cells": [
  {
   "cell_type": "code",
   "execution_count": 9,
   "metadata": {},
   "outputs": [],
   "source": [
    "import math"
   ]
  },
  {
   "cell_type": "markdown",
   "metadata": {},
   "source": [
    "Lesson 1: Write program that enters two numbers a and b prints all prime numbers in the range(a, b)"
   ]
  },
  {
   "cell_type": "code",
   "execution_count": 21,
   "metadata": {},
   "outputs": [
    {
     "name": "stdout",
     "output_type": "stream",
     "text": [
      "1, 2, 3, 5, 7, "
     ]
    }
   ],
   "source": [
    "def check_prime(x):\n",
    "    if x <= 0:\n",
    "        return False\n",
    "    elif x == 1 or x == 2:\n",
    "        return True\n",
    "    else:\n",
    "        for i in range(2, math.ceil(x**0.5) + 1):\n",
    "            if x % i == 0:\n",
    "                return False\n",
    "        return True\n",
    "\n",
    "def prime_in_range(a, b):\n",
    "    for i in range(a, b+1):\n",
    "        if check_prime(i):\n",
    "            print(i, end=', ')\n",
    "\n",
    "prime_in_range(1, 10)"
   ]
  },
  {
   "cell_type": "markdown",
   "metadata": {},
   "source": [
    "Lesson 2: Write a program to input the number n. Check if number n is a perfect number or not"
   ]
  },
  {
   "cell_type": "code",
   "execution_count": 33,
   "metadata": {},
   "outputs": [],
   "source": [
    "def find_divitor(x):\n",
    "    lst = []\n",
    "    for i in range(1, x):\n",
    "        if x % i == 0:\n",
    "            lst.append(i)\n",
    "    return lst\n",
    "        \n",
    "\n",
    "def check_perfect_number(x):\n",
    "    lst = find_divitor(x)\n",
    "    if x == sum(lst):\n",
    "        return True\n",
    "    return False\n",
    "\n",
    "\n",
    "def perfect_number_in_range(a, b):\n",
    "    for i in range(a, b+1):\n",
    "        if check_perfect_number(i):\n",
    "            print(i)\n",
    "        "
   ]
  },
  {
   "cell_type": "code",
   "execution_count": 36,
   "metadata": {},
   "outputs": [
    {
     "name": "stdout",
     "output_type": "stream",
     "text": [
      "6\n",
      "28\n"
     ]
    }
   ],
   "source": [
    "perfect_number_in_range(1, 100)"
   ]
  },
  {
   "cell_type": "markdown",
   "metadata": {},
   "source": [
    "Lession 3: Write a program to find all numbers divisible by 7 but not multiples of 5 in segments A and B"
   ]
  },
  {
   "cell_type": "code",
   "execution_count": 40,
   "metadata": {},
   "outputs": [
    {
     "name": "stdout",
     "output_type": "stream",
     "text": [
      "7\n",
      "14\n",
      "21\n",
      "28\n",
      "42\n",
      "49\n",
      "56\n",
      "63\n",
      "77\n",
      "84\n",
      "91\n",
      "98\n",
      "112\n",
      "119\n",
      "126\n",
      "133\n",
      "147\n",
      "154\n",
      "161\n",
      "168\n",
      "182\n",
      "189\n",
      "196\n"
     ]
    }
   ],
   "source": [
    "def check_divide(x):\n",
    "    if (x%7==0) and (x%5!=0):\n",
    "        return True\n",
    "    return False\n",
    "\n",
    "def find_number(a, b):\n",
    "    for i in range(a, b):\n",
    "        if check_divide(i):\n",
    "            print(i)\n",
    "\n",
    "a = int(input('Input number a: '))\n",
    "b = int(input('Input number b: '))\n",
    "\n",
    "find_number(a, b)"
   ]
  },
  {
   "cell_type": "markdown",
   "metadata": {},
   "source": [
    "Lession 4: Enter the number number n calculate"
   ]
  },
  {
   "cell_type": "code",
   "execution_count": 60,
   "metadata": {},
   "outputs": [],
   "source": [
    "#a\n",
    "def factorial(n):\n",
    "    if n <=0 :\n",
    "        return False\n",
    "    elif n == 1:\n",
    "        return 1\n",
    "    return n * factorial(n-1)\n",
    "\n",
    "def calculate_S1(n):\n",
    "    sum = 0\n",
    "    for i in range(1, n+1):\n",
    "        sum += 1/factorial(i)\n",
    "    return sum\n",
    "\n",
    "def calculate_S2(n):\n",
    "    sum = 1\n",
    "    for i in range(1, n):\n",
    "        sum += 1/(i*(i+1))\n",
    "    return sum\n",
    "\n",
    "def calculate_S3(n):\n",
    "    sum = 0\n",
    "    for i in range(1, n+1):\n",
    "        sum += (-1)**(i-1) * (1/factorial(i))\n",
    "    return sum"
   ]
  },
  {
   "cell_type": "code",
   "execution_count": 61,
   "metadata": {},
   "outputs": [
    {
     "data": {
      "text/plain": [
       "0.6666666666666666"
      ]
     },
     "execution_count": 61,
     "metadata": {},
     "output_type": "execute_result"
    }
   ],
   "source": [
    "calculate_S3(3)"
   ]
  },
  {
   "cell_type": "markdown",
   "metadata": {},
   "source": [
    "Lession 5: Enter the integer n, generate fibonacci numbers less then n and print it"
   ]
  },
  {
   "cell_type": "code",
   "execution_count": 62,
   "metadata": {},
   "outputs": [],
   "source": [
    "def fibonacci(n):\n",
    "    if n == 0:\n",
    "        return 0\n",
    "    elif n == 1:\n",
    "        return 1\n",
    "    return fibonacci(n-1)+ fibonacci(n-2)"
   ]
  },
  {
   "cell_type": "code",
   "execution_count": 65,
   "metadata": {},
   "outputs": [
    {
     "name": "stdout",
     "output_type": "stream",
     "text": [
      "0\n",
      "1\n",
      "1\n",
      "2\n",
      "3\n",
      "5\n",
      "8\n",
      "13\n",
      "21\n",
      "34\n"
     ]
    }
   ],
   "source": [
    "for i in range(10):\n",
    "    print(fibonacci(i))"
   ]
  },
  {
   "cell_type": "markdown",
   "metadata": {},
   "source": [
    "Lession 6: Enter n, print the first n rows of Pascal's triangle."
   ]
  },
  {
   "cell_type": "code",
   "execution_count": 67,
   "metadata": {},
   "outputs": [
    {
     "name": "stdout",
     "output_type": "stream",
     "text": [
      "[1]\n",
      "[1, 1]\n",
      "[1, 2, 1]\n",
      "[1, 3, 3, 1]\n",
      "[1, 4, 6, 4, 1]\n",
      "[1, 5, 10, 10, 5, 1]\n"
     ]
    }
   ],
   "source": [
    "def pascal_triangle(n):\n",
    "  \"\"\"\n",
    "  This function generates the first n rows of Pascal's triangle.\n",
    "\n",
    "  Args:\n",
    "      n: The number of rows to print.\n",
    "\n",
    "  Returns:\n",
    "      None. Prints the Pascal's triangle to the console.\n",
    "  \"\"\"\n",
    "\n",
    "  # Initialize the first row with 1\n",
    "  trow = [1]\n",
    "\n",
    "  # Iterate through the rows\n",
    "  for i in range(n):\n",
    "    # Print the current row\n",
    "    print(trow)\n",
    "\n",
    "    # Update the current row using list comprehension\n",
    "    trow = [l + r for l, r in zip(trow + [0], [0] + trow)]\n",
    "\n",
    "# Get the number of rows from the user (handle potential errors)\n",
    "while True:\n",
    "  try:\n",
    "    n = int(input(\"Enter the number of rows: \"))\n",
    "    if n < 0:\n",
    "      print(\"Please enter a non-negative number of rows.\")\n",
    "    else:\n",
    "      break\n",
    "  except ValueError:\n",
    "    print(\"Invalid input. Please enter an integer.\")\n",
    "\n",
    "# Print the Pascal's triangle\n",
    "pascal_triangle(n)"
   ]
  },
  {
   "cell_type": "code",
   "execution_count": null,
   "metadata": {},
   "outputs": [],
   "source": []
  }
 ],
 "metadata": {
  "kernelspec": {
   "display_name": "base",
   "language": "python",
   "name": "python3"
  },
  "language_info": {
   "codemirror_mode": {
    "name": "ipython",
    "version": 3
   },
   "file_extension": ".py",
   "mimetype": "text/x-python",
   "name": "python",
   "nbconvert_exporter": "python",
   "pygments_lexer": "ipython3",
   "version": "3.9.12"
  }
 },
 "nbformat": 4,
 "nbformat_minor": 2
}
